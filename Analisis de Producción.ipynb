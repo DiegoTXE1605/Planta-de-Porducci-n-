{
 "cells": [
  {
   "cell_type": "code",
   "execution_count": 4,
   "metadata": {},
   "outputs": [
    {
     "name": "stderr",
     "output_type": "stream",
     "text": [
      "C:\\Users\\User\\AppData\\Local\\Temp\\ipykernel_9520\\680102526.py:1: DeprecationWarning: \n",
      "Pyarrow will become a required dependency of pandas in the next major release of pandas (pandas 3.0),\n",
      "(to allow more performant data types, such as the Arrow string type, and better interoperability with other libraries)\n",
      "but was not found to be installed on your system.\n",
      "If this would cause problems for you,\n",
      "please provide us feedback at https://github.com/pandas-dev/pandas/issues/54466\n",
      "        \n",
      "  import pandas as pd\n"
     ]
    },
    {
     "data": {
      "text/html": [
       "<div>\n",
       "<style scoped>\n",
       "    .dataframe tbody tr th:only-of-type {\n",
       "        vertical-align: middle;\n",
       "    }\n",
       "\n",
       "    .dataframe tbody tr th {\n",
       "        vertical-align: top;\n",
       "    }\n",
       "\n",
       "    .dataframe thead th {\n",
       "        text-align: right;\n",
       "    }\n",
       "</style>\n",
       "<table border=\"1\" class=\"dataframe\">\n",
       "  <thead>\n",
       "    <tr style=\"text-align: right;\">\n",
       "      <th></th>\n",
       "      <th>tipo</th>\n",
       "      <th>color</th>\n",
       "      <th>talla</th>\n",
       "      <th>planta</th>\n",
       "    </tr>\n",
       "  </thead>\n",
       "  <tbody>\n",
       "    <tr>\n",
       "      <th>0</th>\n",
       "      <td>Pantalón Deportivo</td>\n",
       "      <td>Blanco</td>\n",
       "      <td>L</td>\n",
       "      <td>DyeDreams Factory</td>\n",
       "    </tr>\n",
       "    <tr>\n",
       "      <th>1</th>\n",
       "      <td>Pantalón Cargo</td>\n",
       "      <td>Verde</td>\n",
       "      <td>L</td>\n",
       "      <td>FiberWorks Manufacturing</td>\n",
       "    </tr>\n",
       "    <tr>\n",
       "      <th>2</th>\n",
       "      <td>Jeans</td>\n",
       "      <td>Azul</td>\n",
       "      <td>S</td>\n",
       "      <td>LinenLoom Productions</td>\n",
       "    </tr>\n",
       "    <tr>\n",
       "      <th>3</th>\n",
       "      <td>Pantalón Cargo</td>\n",
       "      <td>Gris</td>\n",
       "      <td>XL</td>\n",
       "      <td>DyeDreams Factory</td>\n",
       "    </tr>\n",
       "    <tr>\n",
       "      <th>4</th>\n",
       "      <td>Pantalón Deportivo</td>\n",
       "      <td>Negro</td>\n",
       "      <td>S</td>\n",
       "      <td>TelaTech Factory</td>\n",
       "    </tr>\n",
       "    <tr>\n",
       "      <th>5</th>\n",
       "      <td>Pantalón Cargo</td>\n",
       "      <td>Azul Claro</td>\n",
       "      <td>XL</td>\n",
       "      <td>FiberWorks Manufacturing</td>\n",
       "    </tr>\n",
       "    <tr>\n",
       "      <th>6</th>\n",
       "      <td>Pantalón de Vestir</td>\n",
       "      <td>Gris Oscuro</td>\n",
       "      <td>XL</td>\n",
       "      <td>SilkStream Textiles</td>\n",
       "    </tr>\n",
       "    <tr>\n",
       "      <th>7</th>\n",
       "      <td>Pantalón Cargo</td>\n",
       "      <td>Azul</td>\n",
       "      <td>M</td>\n",
       "      <td>TelaTech Factory</td>\n",
       "    </tr>\n",
       "    <tr>\n",
       "      <th>8</th>\n",
       "      <td>Shorts</td>\n",
       "      <td>Azul</td>\n",
       "      <td>XL</td>\n",
       "      <td>FiberWorks Manufacturing</td>\n",
       "    </tr>\n",
       "    <tr>\n",
       "      <th>9</th>\n",
       "      <td>Pantalón Cargo</td>\n",
       "      <td>Negro</td>\n",
       "      <td>L</td>\n",
       "      <td>TelaTech Factory</td>\n",
       "    </tr>\n",
       "  </tbody>\n",
       "</table>\n",
       "</div>"
      ],
      "text/plain": [
       "                 tipo        color talla                    planta\n",
       "0  Pantalón Deportivo       Blanco     L         DyeDreams Factory\n",
       "1      Pantalón Cargo        Verde     L  FiberWorks Manufacturing\n",
       "2               Jeans         Azul     S     LinenLoom Productions\n",
       "3      Pantalón Cargo         Gris    XL         DyeDreams Factory\n",
       "4  Pantalón Deportivo        Negro     S          TelaTech Factory\n",
       "5      Pantalón Cargo   Azul Claro    XL  FiberWorks Manufacturing\n",
       "6  Pantalón de Vestir  Gris Oscuro    XL       SilkStream Textiles\n",
       "7      Pantalón Cargo         Azul     M          TelaTech Factory\n",
       "8              Shorts         Azul    XL  FiberWorks Manufacturing\n",
       "9      Pantalón Cargo        Negro     L          TelaTech Factory"
      ]
     },
     "execution_count": 4,
     "metadata": {},
     "output_type": "execute_result"
    }
   ],
   "source": [
    "import pandas as pd\n",
    "import numpy as np\n",
    "ventas = pd.read_csv('ventas.csv')\n",
    "\n",
    "ventas.head(10)\n"
   ]
  },
  {
   "cell_type": "code",
   "execution_count": 5,
   "metadata": {},
   "outputs": [
    {
     "data": {
      "text/plain": [
       "<Axes: title={'center': 'Porcentajes de ventas de cada planta'}, ylabel='count'>"
      ]
     },
     "execution_count": 5,
     "metadata": {},
     "output_type": "execute_result"
    },
    {
     "data": {
      "image/png": "[encoded data removed]",
      "text/plain": [
       "<Figure size 640x480 with 1 Axes>"
      ]
     },
     "metadata": {},
     "output_type": "display_data"
    }
   ],
   "source": [
    "ventas['planta'].value_counts().plot(kind='pie', autopct='%.1f%%',\n",
    "                                   title='Porcentajes de ventas de cada planta')"
   ]
  },
  {
   "cell_type": "code",
   "execution_count": 6,
   "metadata": {},
   "outputs": [
    {
     "data": {
      "text/plain": [
       "[{'lugar': 'EcoChic Boutique', 'descuento': 30, 'envio': 3},\n",
       " {'lugar': 'Vintage Vogue Emporium', 'descuento': 35, 'envio': 4},\n",
       " {'lugar': 'FitFrenzy Activewear', 'descuento': 33, 'envio': 3},\n",
       " {'lugar': 'Little Sprouts Fashion House', 'descuento': 30, 'envio': 3},\n",
       " {'lugar': 'Local Threads Collective', 'descuento': 40, 'envio': 5}]"
      ]
     },
     "execution_count": 6,
     "metadata": {},
     "output_type": "execute_result"
    }
   ],
   "source": [
    "lugares = [{\"lugar\":\"EcoChic Boutique\",\"descuento\":30,\"envio\":3},{\"lugar\":\"Vintage Vogue Emporium\",\"descuento\":35,\"envio\":4},\n",
    " {\"lugar\":\"FitFrenzy Activewear\",\"descuento\":33,\"envio\":3},{ \"lugar\":\"Little Sprouts Fashion House\",\"descuento\":30,\"envio\":3},\n",
    "  {\"lugar\":\"Local Threads Collective\",\"descuento\":40,\"envio\":5}]\n",
    "lugares"
   ]
  },
  {
   "cell_type": "code",
   "execution_count": 7,
   "metadata": {},
   "outputs": [
    {
     "data": {
      "text/html": [
       "<div>\n",
       "<style scoped>\n",
       "    .dataframe tbody tr th:only-of-type {\n",
       "        vertical-align: middle;\n",
       "    }\n",
       "\n",
       "    .dataframe tbody tr th {\n",
       "        vertical-align: top;\n",
       "    }\n",
       "\n",
       "    .dataframe thead th {\n",
       "        text-align: right;\n",
       "    }\n",
       "</style>\n",
       "<table border=\"1\" class=\"dataframe\">\n",
       "  <thead>\n",
       "    <tr style=\"text-align: right;\">\n",
       "      <th></th>\n",
       "      <th>lugar</th>\n",
       "      <th>descuento</th>\n",
       "      <th>envio</th>\n",
       "    </tr>\n",
       "  </thead>\n",
       "  <tbody>\n",
       "    <tr>\n",
       "      <th>0</th>\n",
       "      <td>EcoChic Boutique</td>\n",
       "      <td>30</td>\n",
       "      <td>3</td>\n",
       "    </tr>\n",
       "    <tr>\n",
       "      <th>1</th>\n",
       "      <td>Vintage Vogue Emporium</td>\n",
       "      <td>35</td>\n",
       "      <td>4</td>\n",
       "    </tr>\n",
       "    <tr>\n",
       "      <th>2</th>\n",
       "      <td>FitFrenzy Activewear</td>\n",
       "      <td>33</td>\n",
       "      <td>3</td>\n",
       "    </tr>\n",
       "    <tr>\n",
       "      <th>3</th>\n",
       "      <td>Little Sprouts Fashion House</td>\n",
       "      <td>30</td>\n",
       "      <td>3</td>\n",
       "    </tr>\n",
       "    <tr>\n",
       "      <th>4</th>\n",
       "      <td>Local Threads Collective</td>\n",
       "      <td>40</td>\n",
       "      <td>5</td>\n",
       "    </tr>\n",
       "  </tbody>\n",
       "</table>\n",
       "</div>"
      ],
      "text/plain": [
       "                          lugar  descuento  envio\n",
       "0              EcoChic Boutique         30      3\n",
       "1        Vintage Vogue Emporium         35      4\n",
       "2          FitFrenzy Activewear         33      3\n",
       "3  Little Sprouts Fashion House         30      3\n",
       "4      Local Threads Collective         40      5"
      ]
     },
     "execution_count": 7,
     "metadata": {},
     "output_type": "execute_result"
    }
   ],
   "source": [
    "lugar_data = pd.DataFrame(lugares)\n",
    "lugar_data"
   ]
  },
  {
   "cell_type": "code",
   "execution_count": 11,
   "metadata": {},
   "outputs": [
    {
     "data": {
      "text/html": [
       "<div>\n",
       "<style scoped>\n",
       "    .dataframe tbody tr th:only-of-type {\n",
       "        vertical-align: middle;\n",
       "    }\n",
       "\n",
       "    .dataframe tbody tr th {\n",
       "        vertical-align: top;\n",
       "    }\n",
       "\n",
       "    .dataframe thead th {\n",
       "        text-align: right;\n",
       "    }\n",
       "</style>\n",
       "<table border=\"1\" class=\"dataframe\">\n",
       "  <thead>\n",
       "    <tr style=\"text-align: right;\">\n",
       "      <th></th>\n",
       "      <th>lugar</th>\n",
       "      <th>descuento</th>\n",
       "      <th>envio</th>\n",
       "      <th>costo_con_descuento</th>\n",
       "      <th>costo_total</th>\n",
       "    </tr>\n",
       "  </thead>\n",
       "  <tbody>\n",
       "    <tr>\n",
       "      <th>0</th>\n",
       "      <td>EcoChic Boutique</td>\n",
       "      <td>30</td>\n",
       "      <td>3</td>\n",
       "      <td>70.0</td>\n",
       "      <td>73.0</td>\n",
       "    </tr>\n",
       "    <tr>\n",
       "      <th>1</th>\n",
       "      <td>Vintage Vogue Emporium</td>\n",
       "      <td>35</td>\n",
       "      <td>4</td>\n",
       "      <td>65.0</td>\n",
       "      <td>69.0</td>\n",
       "    </tr>\n",
       "    <tr>\n",
       "      <th>2</th>\n",
       "      <td>FitFrenzy Activewear</td>\n",
       "      <td>33</td>\n",
       "      <td>3</td>\n",
       "      <td>67.0</td>\n",
       "      <td>70.0</td>\n",
       "    </tr>\n",
       "    <tr>\n",
       "      <th>3</th>\n",
       "      <td>Little Sprouts Fashion House</td>\n",
       "      <td>30</td>\n",
       "      <td>3</td>\n",
       "      <td>70.0</td>\n",
       "      <td>73.0</td>\n",
       "    </tr>\n",
       "    <tr>\n",
       "      <th>4</th>\n",
       "      <td>Local Threads Collective</td>\n",
       "      <td>40</td>\n",
       "      <td>5</td>\n",
       "      <td>60.0</td>\n",
       "      <td>65.0</td>\n",
       "    </tr>\n",
       "  </tbody>\n",
       "</table>\n",
       "</div>"
      ],
      "text/plain": [
       "                          lugar  descuento  envio  costo_con_descuento  \\\n",
       "0              EcoChic Boutique         30      3                 70.0   \n",
       "1        Vintage Vogue Emporium         35      4                 65.0   \n",
       "2          FitFrenzy Activewear         33      3                 67.0   \n",
       "3  Little Sprouts Fashion House         30      3                 70.0   \n",
       "4      Local Threads Collective         40      5                 60.0   \n",
       "\n",
       "   costo_total  \n",
       "0         73.0  \n",
       "1         69.0  \n",
       "2         70.0  \n",
       "3         73.0  \n",
       "4         65.0  "
      ]
     },
     "execution_count": 11,
     "metadata": {},
     "output_type": "execute_result"
    }
   ],
   "source": [
    "#Este codigo tiene como objetivo calcular el costo total, es decir, el valor del descuento mas el valor del envío\n",
    "\n",
    "costo = 100 #este es un costo asignado en forma de ejemplo. 100# fake\n",
    "\n",
    "\n",
    "lugar_data['costo_con_descuento'] = costo - (costo * lugar_data['descuento'] / 100)\n",
    "lugar_data['costo_total'] = lugar_data['costo_con_descuento'] + lugar_data['envio']\n",
    "\n",
    "columna_total = lugar_data['costo_total']\n",
    "lugar_data"
   ]
  },
  {
   "cell_type": "code",
   "execution_count": 9,
   "metadata": {},
   "outputs": [
    {
     "data": {
      "text/plain": [
       "[{'planta': 'TelaTech Factory', 'precio': 4.55},\n",
       " {'planta': 'FiberWorks Manufacturing', 'precio': 4.34},\n",
       " {'planta': 'SilkStream Textiles', 'precio': 4.27},\n",
       " {'planta': 'CottonCraft Works', 'precio': 4.13},\n",
       " {'planta': 'LinenLoom Productions', 'precio': 4.9},\n",
       " {'planta': 'ThreadTide Textile Mill', 'precio': 4.34},\n",
       " {'planta': 'WeaveWave Fabrics', 'precio': 4.72},\n",
       " {'planta': 'YarnYield Manufacturing', 'precio': 4.3},\n",
       " {'planta': 'DyeDreams Factory', 'precio': 4.51},\n",
       " {'planta': 'KnitNest Textile Co.', 'precio': 4.67}]"
      ]
     },
     "execution_count": 9,
     "metadata": {},
     "output_type": "execute_result"
    }
   ],
   "source": [
    "plantas = [{'planta': 'TelaTech Factory', 'precio': 4.55}, {'planta': 'FiberWorks Manufacturing', 'precio': 4.34}, {'planta': 'SilkStream Textiles', 'precio': 4.27}, {'planta': 'CottonCraft Works', 'precio': 4.13}, {'planta': 'LinenLoom Productions', 'precio': 4.9}, {'planta': 'ThreadTide Textile Mill', 'precio': 4.34}, {'planta': 'WeaveWave Fabrics', 'precio': 4.72}, {'planta': 'YarnYield Manufacturing', 'precio': 4.3}, {'planta': 'DyeDreams Factory', 'precio': 4.51}, {'planta': 'KnitNest Textile Co.', 'precio': 4.67}]\n",
    "plantas"
   ]
  },
  {
   "cell_type": "code",
   "execution_count": 10,
   "metadata": {},
   "outputs": [
    {
     "data": {
      "text/html": [
       "<div>\n",
       "<style scoped>\n",
       "    .dataframe tbody tr th:only-of-type {\n",
       "        vertical-align: middle;\n",
       "    }\n",
       "\n",
       "    .dataframe tbody tr th {\n",
       "        vertical-align: top;\n",
       "    }\n",
       "\n",
       "    .dataframe thead th {\n",
       "        text-align: right;\n",
       "    }\n",
       "</style>\n",
       "<table border=\"1\" class=\"dataframe\">\n",
       "  <thead>\n",
       "    <tr style=\"text-align: right;\">\n",
       "      <th></th>\n",
       "      <th>planta</th>\n",
       "      <th>precio</th>\n",
       "    </tr>\n",
       "  </thead>\n",
       "  <tbody>\n",
       "    <tr>\n",
       "      <th>0</th>\n",
       "      <td>TelaTech Factory</td>\n",
       "      <td>4.55</td>\n",
       "    </tr>\n",
       "    <tr>\n",
       "      <th>1</th>\n",
       "      <td>FiberWorks Manufacturing</td>\n",
       "      <td>4.34</td>\n",
       "    </tr>\n",
       "    <tr>\n",
       "      <th>2</th>\n",
       "      <td>SilkStream Textiles</td>\n",
       "      <td>4.27</td>\n",
       "    </tr>\n",
       "    <tr>\n",
       "      <th>3</th>\n",
       "      <td>CottonCraft Works</td>\n",
       "      <td>4.13</td>\n",
       "    </tr>\n",
       "    <tr>\n",
       "      <th>4</th>\n",
       "      <td>LinenLoom Productions</td>\n",
       "      <td>4.90</td>\n",
       "    </tr>\n",
       "    <tr>\n",
       "      <th>5</th>\n",
       "      <td>ThreadTide Textile Mill</td>\n",
       "      <td>4.34</td>\n",
       "    </tr>\n",
       "    <tr>\n",
       "      <th>6</th>\n",
       "      <td>WeaveWave Fabrics</td>\n",
       "      <td>4.72</td>\n",
       "    </tr>\n",
       "    <tr>\n",
       "      <th>7</th>\n",
       "      <td>YarnYield Manufacturing</td>\n",
       "      <td>4.30</td>\n",
       "    </tr>\n",
       "    <tr>\n",
       "      <th>8</th>\n",
       "      <td>DyeDreams Factory</td>\n",
       "      <td>4.51</td>\n",
       "    </tr>\n",
       "    <tr>\n",
       "      <th>9</th>\n",
       "      <td>KnitNest Textile Co.</td>\n",
       "      <td>4.67</td>\n",
       "    </tr>\n",
       "  </tbody>\n",
       "</table>\n",
       "</div>"
      ],
      "text/plain": [
       "                     planta  precio\n",
       "0          TelaTech Factory    4.55\n",
       "1  FiberWorks Manufacturing    4.34\n",
       "2       SilkStream Textiles    4.27\n",
       "3         CottonCraft Works    4.13\n",
       "4     LinenLoom Productions    4.90\n",
       "5   ThreadTide Textile Mill    4.34\n",
       "6         WeaveWave Fabrics    4.72\n",
       "7   YarnYield Manufacturing    4.30\n",
       "8         DyeDreams Factory    4.51\n",
       "9      KnitNest Textile Co.    4.67"
      ]
     },
     "execution_count": 10,
     "metadata": {},
     "output_type": "execute_result"
    }
   ],
   "source": [
    "plantas_data = pd.DataFrame(plantas)\n",
    "plantas_data"
   ]
  }
 ],
 "metadata": {
  "kernelspec": {
   "display_name": "Python 3",
   "language": "python",
   "name": "python3"
  },
  "language_info": {
   "codemirror_mode": {
    "name": "ipython",
    "version": 3
   },
   "file_extension": ".py",
   "mimetype": "text/x-python",
   "name": "python",
   "nbconvert_exporter": "python",
   "pygments_lexer": "ipython3",
   "version": "3.12.2"
  }
 },
 "nbformat": 4,
 "nbformat_minor": 2
}
